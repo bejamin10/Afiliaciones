{
 "cells": [
  {
   "cell_type": "code",
   "execution_count": 69,
   "id": "c0ba09d2",
   "metadata": {},
   "outputs": [],
   "source": [
    "import pandas as pd\n",
    "from datetime import datetime\n",
    "import re\n",
    "import os\n",
    "import numpy as np"
   ]
  },
  {
   "cell_type": "code",
   "execution_count": 56,
   "id": "aca0103e",
   "metadata": {},
   "outputs": [],
   "source": [
    "meses = ['Enero', 'Febrero', 'Marzo', 'Abril', 'Mayo', 'Junio', 'Julio', 'Agosto', 'Septiembre', 'Octubre', 'Noviembre', ' Diciembre']\n",
    "hoy = datetime.now()\n",
    "\n",
    "mes_actual_int = '0' + str(hoy.month)\n",
    "mes_actual_str = meses[hoy.month - 1]\n",
    "mes_anterior_int = '0' + str(hoy.month - 1)\n",
    "mes_anterior_str = meses[hoy.month - 2]"
   ]
  },
  {
   "cell_type": "code",
   "execution_count": 57,
   "id": "23f1be61",
   "metadata": {},
   "outputs": [],
   "source": [
    "ruta_afiliaciones = f'C:/Users/BBARTOLOMEE/OneDrive - Entel Peru S.A/Afiliaciones/2025/{mes_anterior_int}. {mes_anterior_str}'"
   ]
  },
  {
   "cell_type": "code",
   "execution_count": 58,
   "id": "01965a5f",
   "metadata": {},
   "outputs": [
    {
     "data": {
      "text/plain": [
       "'C:/Users/BBARTOLOMEE/OneDrive - Entel Peru S.A/Afiliaciones/2025/06. Junio'"
      ]
     },
     "execution_count": 58,
     "metadata": {},
     "output_type": "execute_result"
    }
   ],
   "source": [
    "ruta_afiliaciones"
   ]
  },
  {
   "cell_type": "code",
   "execution_count": 59,
   "id": "d2e7354c",
   "metadata": {},
   "outputs": [],
   "source": [
    "#Buscar archivo afiliaciones para obtener su nombre actual\n",
    "def buscar_nombre_afiliaciones(ruta_afiliaciones):\n",
    "        for archivo in os.listdir(ruta_afiliaciones):\n",
    "                if archivo.lower().startswith('afiliaciones'):\n",
    "                        nombre = archivo\n",
    "                        return nombre"
   ]
  },
  {
   "cell_type": "code",
   "execution_count": 60,
   "id": "21fe7d4f",
   "metadata": {},
   "outputs": [
    {
     "name": "stdout",
     "output_type": "stream",
     "text": [
      "Afiliaciones_Junio_25.xlsx\n"
     ]
    }
   ],
   "source": [
    "nombre_afiliaciones = buscar_nombre_afiliaciones(ruta_afiliaciones)\n",
    "print(nombre_afiliaciones)"
   ]
  },
  {
   "cell_type": "code",
   "execution_count": 61,
   "id": "98e95abe",
   "metadata": {},
   "outputs": [],
   "source": [
    "ruta_afiliaciones_completa = ruta_afiliaciones + '/' + nombre_afiliaciones\n",
    "df_afiliaciones = pd.read_excel(ruta_afiliaciones_completa, sheet_name= f'Afiliaciones {mes_anterior_str} 25')"
   ]
  },
  {
   "cell_type": "code",
   "execution_count": null,
   "id": "13920958",
   "metadata": {},
   "outputs": [],
   "source": [
    "df_afiliaciones"
   ]
  },
  {
   "cell_type": "markdown",
   "id": "7ff2e5d2",
   "metadata": {},
   "source": [
    "<h4>CHECK PEDIDO<h4>"
   ]
  },
  {
   "cell_type": "code",
   "execution_count": 63,
   "id": "94e89b0c",
   "metadata": {},
   "outputs": [],
   "source": [
    "ruta_pedido = f'C:/Users/BBARTOLOMEE/OneDrive - Entel Peru S.A/Afiliaciones/2025/{mes_anterior_int}. {mes_anterior_str}/Inputs'"
   ]
  },
  {
   "cell_type": "code",
   "execution_count": 64,
   "id": "d135342a",
   "metadata": {},
   "outputs": [],
   "source": [
    "def ultimo_pedido(ruta_pedido):\n",
    "    prefijos_dict = {}\n",
    "\n",
    "    for archivo in os.listdir(ruta_pedido):\n",
    "        if archivo.lower().startswith('pedido'):\n",
    "            prefijo = archivo[10:12]\n",
    "            try:\n",
    "                clave = int(prefijo)\n",
    "                if clave not in prefijos_dict:\n",
    "                    prefijos_dict[clave] = []\n",
    "                prefijos_dict[clave].append(archivo)\n",
    "            except ValueError:\n",
    "                print(f\"'{archivo}' no tiene un prefijo numérico válido.\")\n",
    "\n",
    "    if not prefijos_dict:\n",
    "        print(\"No se encontraron archivos con prefijos numéricos válidos.\")\n",
    "        return None\n",
    "\n",
    "    clave_max = max(prefijos_dict)\n",
    "    return prefijos_dict[clave_max][0]"
   ]
  },
  {
   "cell_type": "code",
   "execution_count": 65,
   "id": "3a3e5691",
   "metadata": {},
   "outputs": [],
   "source": [
    "primer_pedido = ultimo_pedido(ruta_pedido)\n",
    "ruta_pedido_completa = ruta_pedido + \"/\" + primer_pedido"
   ]
  },
  {
   "cell_type": "code",
   "execution_count": null,
   "id": "a0ea6c39",
   "metadata": {},
   "outputs": [],
   "source": [
    "df_pedido_original = pd.read_excel(ruta_pedido_completa)"
   ]
  },
  {
   "cell_type": "code",
   "execution_count": null,
   "id": "1c857c7f",
   "metadata": {},
   "outputs": [],
   "source": [
    "df_pedido_afiliaciones = df_pedido_original.drop_duplicates(subset='RUCCOMPANIA')\n",
    "df_pedido_afiliaciones"
   ]
  },
  {
   "cell_type": "code",
   "execution_count": null,
   "id": "5d92bd67",
   "metadata": {},
   "outputs": [],
   "source": [
    "df_afiliaciones_col1 = pd.merge(df_afiliaciones, df_pedido_afiliaciones[['RUCCOMPANIA','LARGO']], on='RUCCOMPANIA', how='left')\n"
   ]
  },
  {
   "cell_type": "code",
   "execution_count": null,
   "id": "35096d4c",
   "metadata": {},
   "outputs": [],
   "source": [
    "df_afiliaciones_col1"
   ]
  },
  {
   "cell_type": "code",
   "execution_count": null,
   "id": "f7f3d442",
   "metadata": {},
   "outputs": [],
   "source": [
    "df_afiliaciones_col1['OPS VÍA E-MAIL 02.05'] = 'NO'\n",
    "\n",
    "condicion = df_afiliaciones_col1['LARGO'].notna() & (df_afiliaciones_col1['LARGO'] != '') & (df_afiliaciones_col1['LARGO'].astype(str).str.strip() != '')\n",
    "\n",
    "df_afiliaciones_col1.loc[condicion, 'OPS VÍA E-MAIL 02.05'] = 'SI'\n",
    "\n",
    "df_afiliaciones_col1 = df_afiliaciones_col1.drop('LARGO',axis = 'columns')"
   ]
  },
  {
   "cell_type": "markdown",
   "id": "cfd391d5",
   "metadata": {},
   "source": [
    "<h4>CT<h4>"
   ]
  },
  {
   "cell_type": "code",
   "execution_count": 67,
   "id": "6dadf924",
   "metadata": {},
   "outputs": [],
   "source": [
    "def excel_ct(ruta_pedido, input):\n",
    "    nombre = ''\n",
    "    for archivo in os.listdir(ruta_pedido):\n",
    "        if archivo.lower().startswith(input):\n",
    "            nombre=archivo\n",
    "            break\n",
    "    return nombre"
   ]
  },
  {
   "cell_type": "code",
   "execution_count": 68,
   "id": "a098d160",
   "metadata": {},
   "outputs": [],
   "source": [
    "primer_ct = excel_ct(ruta_pedido,'ct')"
   ]
  },
  {
   "cell_type": "code",
   "execution_count": null,
   "id": "936e4d74",
   "metadata": {},
   "outputs": [],
   "source": [
    "df_ct = pd.read_excel(ruta_pedido + '/' + primer_ct)"
   ]
  },
  {
   "cell_type": "code",
   "execution_count": null,
   "id": "9347c069",
   "metadata": {},
   "outputs": [],
   "source": [
    "df_ct.drop_duplicates(subset = \"RUCCOMPANIA\", inplace=True)\n",
    "df_ct.reset_index(inplace = True, drop = True)\n",
    "df_ct"
   ]
  },
  {
   "cell_type": "code",
   "execution_count": null,
   "id": "505fd56f",
   "metadata": {},
   "outputs": [],
   "source": [
    "df_afiliaciones_col2 = pd.merge(df_afiliaciones_col1, df_ct[['RUCCOMPANIA','LARGO']], on='RUCCOMPANIA', how='left')"
   ]
  },
  {
   "cell_type": "code",
   "execution_count": null,
   "id": "0ea3031f",
   "metadata": {},
   "outputs": [],
   "source": [
    "len(df_afiliaciones_col2)"
   ]
  },
  {
   "cell_type": "code",
   "execution_count": null,
   "id": "6fe9d2a5",
   "metadata": {},
   "outputs": [],
   "source": [
    "df_afiliaciones_col2['OPS VÍA VOZ 02.05'] = 'NO'\n",
    "\n",
    "condicion = df_afiliaciones_col2['LARGO'].notna() & (df_afiliaciones_col2['LARGO'] != '') & (df_afiliaciones_col2['LARGO'].astype(str).str.strip() != '')\n",
    "\n",
    "df_afiliaciones_col2.loc[condicion, 'OPS VÍA VOZ 02.05'] = 'SI'\n",
    "\n",
    "df_afiliaciones_col2 = df_afiliaciones_col2.drop('LARGO',axis = 'columns')"
   ]
  },
  {
   "cell_type": "code",
   "execution_count": null,
   "id": "bfc702cf",
   "metadata": {},
   "outputs": [],
   "source": [
    "condicion_2 = [(df_afiliaciones_col2['OPS VÍA E-MAIL 02.05'] == 'SI') & (df_afiliaciones_col2['OPS VÍA VOZ 02.05'] == 'SI'),\n",
    "               (df_afiliaciones_col2['OPS VÍA E-MAIL 02.05'] == 'SI') & (df_afiliaciones_col2['OPS VÍA VOZ 02.05'] == 'NO'),\n",
    "               (df_afiliaciones_col2['OPS VÍA E-MAIL 02.05'] == 'NO') & (df_afiliaciones_col2['OPS VÍA VOZ 02.05'] == 'SI'),\n",
    "               (df_afiliaciones_col2['OPS VÍA E-MAIL 02.05'] == 'NO') & (df_afiliaciones_col2['OPS VÍA VOZ 02.05'] == 'NO')]\n",
    "\n",
    "valores = ['AFILIADO COMPLETO','AFILIADO SOLO MAIL','AFILIADO SOLO VOZ','NO AFILIADO']\n",
    "\n",
    "df_afiliaciones_col2['STATUS AFILIACION 02.05'] = np.select(condicion_2, valores, default='')"
   ]
  },
  {
   "cell_type": "code",
   "execution_count": null,
   "id": "aaadce18",
   "metadata": {},
   "outputs": [],
   "source": [
    "df_afiliaciones_col2"
   ]
  },
  {
   "cell_type": "code",
   "execution_count": null,
   "id": "0fb629c0",
   "metadata": {},
   "outputs": [],
   "source": [
    "#Quitar numeros no validos de pedido\n",
    "\n",
    "df_pedido_telf_real = df_pedido_afiliaciones[df_pedido_afiliaciones['LARGO'] != 1]"
   ]
  },
  {
   "cell_type": "code",
   "execution_count": null,
   "id": "5f9c5369",
   "metadata": {},
   "outputs": [],
   "source": [
    "df_afiliaciones_col3 = pd.merge(df_afiliaciones_col2, df_pedido_telf_real[['RUCCOMPANIA','LARGO']], on='RUCCOMPANIA', how='left')"
   ]
  },
  {
   "cell_type": "code",
   "execution_count": null,
   "id": "263fb3e5",
   "metadata": {},
   "outputs": [],
   "source": [
    "df_afiliaciones_col3['Pedido con Cel'] = 'NO'\n",
    "\n",
    "condicion = df_afiliaciones_col3['LARGO'].notna()\n",
    "\n",
    "df_afiliaciones_col3.loc[condicion, 'Pedido con Cel'] = 'SI'\n",
    "\n",
    "df_afiliaciones_col3 = df_afiliaciones_col3.drop('LARGO',axis = 'columns')"
   ]
  },
  {
   "cell_type": "code",
   "execution_count": null,
   "id": "7abacda5",
   "metadata": {},
   "outputs": [],
   "source": [
    "df_afiliaciones_col3"
   ]
  },
  {
   "cell_type": "code",
   "execution_count": null,
   "id": "74bb52a3",
   "metadata": {},
   "outputs": [],
   "source": [
    "condicion_3 = [(df_afiliaciones_col3['STATUS AFILIACION 02.05'] == 'AFILIADO COMPLETO') & (df_afiliaciones_col3['Pedido con Cel'] == 'SI'),\n",
    "               (df_afiliaciones_col3['STATUS AFILIACION 02.05'] == 'AFILIADO SOLO MAIL') & (df_afiliaciones_col3['Pedido con Cel'] == 'SI'),\n",
    "               (df_afiliaciones_col3['STATUS AFILIACION 02.05'] == 'AFILIADO COMPLETO') & (df_afiliaciones_col3['Pedido con Cel'] == 'NO'),\n",
    "               (df_afiliaciones_col3['STATUS AFILIACION 02.05'] == 'AFILIADO SOLO MAIL') & (df_afiliaciones_col3['Pedido con Cel'] == 'NO'),\n",
    "               (df_afiliaciones_col3['STATUS AFILIACION 02.05'] == 'AFILIADO SOLO VOZ') & (df_afiliaciones_col3['Pedido con Cel'] == 'NO'),\n",
    "               (df_afiliaciones_col3['STATUS AFILIACION 02.05'] == 'NO AFILIADO') & (df_afiliaciones_col3['Pedido con Cel'] == 'NO'),]\n",
    "\n",
    "valores_2 = ['AFILIADO COMPLETO','AFILIADO COMPLETO','AFILIADO COMPLETO','AFILIADO SOLO MAIL','AFILIADO SOLO VOZ','NO AFILIADO']\n",
    "\n",
    "df_afiliaciones_col3['STATUS AFILIACION FINAL 02.05'] = np.select(condicion_3, valores_2, default='')"
   ]
  },
  {
   "cell_type": "code",
   "execution_count": null,
   "id": "51c226c2",
   "metadata": {},
   "outputs": [],
   "source": [
    "df_afiliaciones_col3.head(5)"
   ]
  },
  {
   "cell_type": "markdown",
   "id": "38972706",
   "metadata": {},
   "source": [
    "<h4>Subimos rol adm<h4>"
   ]
  },
  {
   "cell_type": "code",
   "execution_count": null,
   "id": "26b680c4",
   "metadata": {},
   "outputs": [],
   "source": [
    "primer_rol = excel_ct(ruta_pedido,'rol')\n",
    "df_rol = pd.read_excel(ruta_pedido + '/' + primer_rol)"
   ]
  },
  {
   "cell_type": "code",
   "execution_count": null,
   "id": "72fa9e6c",
   "metadata": {},
   "outputs": [],
   "source": [
    "#Prueba\n",
    "#df_rol = pd.read_excel(r'C:\\Users\\BBARTOLOMEE\\OneDrive - Entel Peru S.A\\Afiliaciones\\2025\\04. Abril\\Inputs\\Rol Online 26.06.xlsx')"
   ]
  },
  {
   "cell_type": "code",
   "execution_count": null,
   "id": "ffbd85c8",
   "metadata": {},
   "outputs": [],
   "source": [
    "df_rol"
   ]
  },
  {
   "cell_type": "code",
   "execution_count": null,
   "id": "d8ee7f35",
   "metadata": {},
   "outputs": [],
   "source": [
    "df_rol['51NUM'] = '51' + df_rol['LINEA'].fillna(0).astype(int).astype(str)\n",
    "df_rol['LLAVE'] = df_rol['RUC'].fillna(0).astype(int).astype(str) + df_rol['51NUM'].astype(str)"
   ]
  },
  {
   "cell_type": "code",
   "execution_count": null,
   "id": "827ea947",
   "metadata": {},
   "outputs": [],
   "source": [
    "df_rol"
   ]
  },
  {
   "cell_type": "markdown",
   "id": "12953bbf",
   "metadata": {},
   "source": [
    "<H4>SUSCRIPTORES<H4>"
   ]
  },
  {
   "cell_type": "code",
   "execution_count": 7,
   "id": "5a9f797d",
   "metadata": {},
   "outputs": [],
   "source": [
    "ruta_suscriptores = f'C:/Users/BBARTOLOMEE/OneDrive - Entel Peru S.A/Afiliaciones/2025/{mes_anterior_int}. {mes_anterior_str}/Suscriptores'"
   ]
  },
  {
   "cell_type": "code",
   "execution_count": 8,
   "id": "8b841e35",
   "metadata": {},
   "outputs": [],
   "source": [
    "def ultimo_suscriptores(ruta_carpeta):\n",
    "    prefijos_dict = {}\n",
    "\n",
    "    for archivo in os.listdir(ruta_carpeta):\n",
    "        if archivo.lower().endswith('.xlsx'):\n",
    "            prefijo = archivo[16:18]\n",
    "            try:\n",
    "                clave = int(prefijo)\n",
    "                if clave not in prefijos_dict:  \n",
    "                    prefijos_dict[clave] = []\n",
    "                prefijos_dict[clave].append(archivo)\n",
    "            except ValueError:\n",
    "                print(f\"'{archivo}' no tiene un prefijo numérico válido.\")\n",
    "\n",
    "    if not prefijos_dict:\n",
    "        print(\"No se encontraron archivos con prefijos numéricos válidos.\")\n",
    "        return None\n",
    "\n",
    "    clave_max = max(prefijos_dict)\n",
    "    return prefijos_dict[clave_max][0]"
   ]
  },
  {
   "cell_type": "code",
   "execution_count": 9,
   "id": "d86dac16",
   "metadata": {},
   "outputs": [],
   "source": [
    "ultimo_suscriptores = ultimo_suscriptores(ruta_suscriptores)"
   ]
  },
  {
   "cell_type": "code",
   "execution_count": 10,
   "id": "fd26f307",
   "metadata": {},
   "outputs": [
    {
     "data": {
      "text/plain": [
       "'Suscriptores.01.07.xlsx'"
      ]
     },
     "execution_count": 10,
     "metadata": {},
     "output_type": "execute_result"
    }
   ],
   "source": [
    "ultimo_suscriptores"
   ]
  },
  {
   "cell_type": "code",
   "execution_count": 11,
   "id": "fca194d9",
   "metadata": {},
   "outputs": [],
   "source": [
    "suscriptores = pd.read_excel(ruta_suscriptores + \"/\" + ultimo_suscriptores, sheet_name=None)"
   ]
  },
  {
   "cell_type": "code",
   "execution_count": 13,
   "id": "f29349fe",
   "metadata": {},
   "outputs": [],
   "source": [
    "df_suscriptores_smart = suscriptores['Smart']\n",
    "df_suscriptores_no_smart = suscriptores['No Smart']"
   ]
  },
  {
   "cell_type": "code",
   "execution_count": null,
   "id": "8d36d865",
   "metadata": {},
   "outputs": [],
   "source": [
    "len(df_rol)"
   ]
  },
  {
   "cell_type": "code",
   "execution_count": null,
   "id": "7ee5b766",
   "metadata": {},
   "outputs": [],
   "source": [
    "df_rol_1 = pd.merge(df_rol,df_suscriptores_smart[['LLAVE','LONGITUDCOMPANIA']], on= 'LLAVE', how = 'left')"
   ]
  },
  {
   "cell_type": "code",
   "execution_count": null,
   "id": "f1c179e8",
   "metadata": {},
   "outputs": [],
   "source": [
    "df_cruzados_llave = df_rol_1[df_rol_1['LONGITUDCOMPANIA'].notna()].copy()\n",
    "df_no_cruzados_llave = df_rol_1[df_rol_1['LONGITUDCOMPANIA'].isna()].copy()"
   ]
  },
  {
   "cell_type": "code",
   "execution_count": null,
   "id": "a91d5d0a",
   "metadata": {},
   "outputs": [],
   "source": [
    "df_no_cruzados_llave_NoSmart = pd.merge(df_no_cruzados_llave, df_suscriptores_no_smart[['LLAVE','LONGITUDCOMPANIA']],on = 'LLAVE', how = 'left')"
   ]
  },
  {
   "cell_type": "code",
   "execution_count": null,
   "id": "0f77f1f5",
   "metadata": {},
   "outputs": [],
   "source": [
    "df_rol_2 = pd.concat([df_cruzados_llave, df_no_cruzados_llave_NoSmart], ignore_index=True)"
   ]
  },
  {
   "cell_type": "code",
   "execution_count": null,
   "id": "ea7ea49a",
   "metadata": {},
   "outputs": [],
   "source": [
    "len(df_rol_2)"
   ]
  },
  {
   "cell_type": "code",
   "execution_count": null,
   "id": "8aa12c32",
   "metadata": {
    "vscode": {
     "languageId": "markdown"
    }
   },
   "outputs": [],
   "source": [
    "df_rol_2['ETIQUETA'] = df_rol_2['LONGITUDCOMPANIA'].combine_first(df_rol_2['LONGITUDCOMPANIA_x']).combine_first(df_rol_2['LONGITUDCOMPANIA_y'])"
   ]
  },
  {
   "cell_type": "code",
   "execution_count": null,
   "id": "e459d05a",
   "metadata": {},
   "outputs": [],
   "source": [
    "df_rol_2.drop(columns=['LONGITUDCOMPANIA_x','LONGITUDCOMPANIA_y','LONGITUDCOMPANIA'], inplace=True)"
   ]
  },
  {
   "cell_type": "code",
   "execution_count": null,
   "id": "6f0ae8da",
   "metadata": {
    "vscode": {
     "languageId": "markdown"
    }
   },
   "outputs": [],
   "source": [
    "condicion_5 = df_rol_2['ETIQUETA'].notna() & (df_rol_2['ETIQUETA'] != '')\n",
    "condicion_6 = df_rol_2['ETIQUETA'].isna()\n",
    "\n",
    "df_rol_2.loc[condicion_5, 'ETIQUETA'] = 'SI'\n",
    "df_rol_2.loc[condicion_6, 'ETIQUETA'] = 'NO'"
   ]
  },
  {
   "cell_type": "code",
   "execution_count": null,
   "id": "4b3b56e8",
   "metadata": {},
   "outputs": [],
   "source": [
    "#Filtrar ROL y Suscriptores y quedarnos con RUCS y otro campo más para cruzarlo\n",
    "df_rol_3 = df_rol_2[(df_rol_2['ROL'] == 'ADMINISTRADOR') & (df_rol_2['ETIQUETA'] == 'SI')]"
   ]
  },
  {
   "cell_type": "code",
   "execution_count": null,
   "id": "93d2eee8",
   "metadata": {},
   "outputs": [],
   "source": [
    "df_rol_3_TD1 = df_rol_3[['RUC', 'ETIQUETA']]"
   ]
  },
  {
   "cell_type": "code",
   "execution_count": null,
   "id": "295a8384",
   "metadata": {},
   "outputs": [],
   "source": [
    "df_rol_3_TD1.reset_index(drop = True, inplace = True)"
   ]
  },
  {
   "cell_type": "code",
   "execution_count": null,
   "id": "cfc5f984",
   "metadata": {},
   "outputs": [],
   "source": [
    "df_rol_3_TD1.rename(columns = {'RUC' : 'RUCCOMPANIA'}, inplace = True)"
   ]
  },
  {
   "cell_type": "code",
   "execution_count": null,
   "id": "ed3ab214",
   "metadata": {},
   "outputs": [],
   "source": [
    "df_rol_3_TD1.drop_duplicates(subset = 'RUCCOMPANIA',inplace= True)\n",
    "df_rol_3_TD1"
   ]
  },
  {
   "cell_type": "code",
   "execution_count": null,
   "id": "80799166",
   "metadata": {},
   "outputs": [],
   "source": [
    "df_afiliaciones_col4 = pd.merge(df_afiliaciones_col3, df_rol_3_TD1, on = 'RUCCOMPANIA', how = 'left' )\n",
    "df_afiliaciones_col4.rename(columns = {'ETIQUETA': 'STATUS ONLINE 02.05'}, inplace = True)\n",
    "df_afiliaciones_col4['STATUS ONLINE 02.05'].fillna('NO', inplace = True)"
   ]
  },
  {
   "cell_type": "code",
   "execution_count": null,
   "id": "7505ffdf",
   "metadata": {},
   "outputs": [],
   "source": [
    "df_afiliaciones_col4"
   ]
  },
  {
   "cell_type": "code",
   "execution_count": null,
   "id": "bec04b94",
   "metadata": {},
   "outputs": [],
   "source": [
    "df_afiliaciones_cruce = df_afiliaciones_col4.copy()"
   ]
  },
  {
   "cell_type": "code",
   "execution_count": null,
   "id": "975561d5",
   "metadata": {},
   "outputs": [],
   "source": [
    "df_afiliaciones_cruce.drop_duplicates(subset='RUCCOMPANIA',inplace = True)"
   ]
  },
  {
   "cell_type": "code",
   "execution_count": null,
   "id": "bf6a2670",
   "metadata": {},
   "outputs": [],
   "source": [
    "#cruzar con afiliaciones\n",
    "df_rol_2.rename(columns = {'RUC':'RUCCOMPANIA'}, inplace = True)\n",
    "df_rol_4 = pd.merge(df_rol_2, df_afiliaciones_cruce[['RUCCOMPANIA','MODELO DE ATENCIÓN MES']], on='RUCCOMPANIA', how= 'left')"
   ]
  },
  {
   "cell_type": "code",
   "execution_count": null,
   "id": "0e3d6a22",
   "metadata": {},
   "outputs": [],
   "source": [
    "df_pedido = df_pedido_original[df_pedido_original['LARGO'] != 1]\n",
    "df_pedido = df_pedido[['LLAVE','RUCCOMPANIA']]\n",
    "df_pedido = df_pedido.drop_duplicates(subset = 'LLAVE')\n",
    "\n",
    "df_rol_5 = pd.merge(df_rol_4, df_pedido, on = 'LLAVE', how='left')"
   ]
  },
  {
   "cell_type": "code",
   "execution_count": null,
   "id": "ff9fca3d",
   "metadata": {},
   "outputs": [],
   "source": [
    "df_rol_5['CA'] = 'NO'\n",
    "\n",
    "condicion = df_rol_5['RUCCOMPANIA_y'].notna()\n",
    "\n",
    "df_rol_5.loc[condicion, 'CA'] = 'SI'\n",
    "\n",
    "df_rol_5 = df_rol_5.drop('RUCCOMPANIA_y',axis = 'columns')"
   ]
  },
  {
   "cell_type": "code",
   "execution_count": null,
   "id": "b0baa6eb",
   "metadata": {},
   "outputs": [],
   "source": [
    "df_rol_5"
   ]
  },
  {
   "cell_type": "code",
   "execution_count": null,
   "id": "694c5e3c",
   "metadata": {},
   "outputs": [],
   "source": [
    "#IVR\n",
    "#ruta_IVR = f'C:/Users/BBARTOLOMEE/OneDrive - Entel Peru S.A/Afiliaciones/2025/IVR/{mes_anterior_str}.xlsx'"
   ]
  },
  {
   "cell_type": "code",
   "execution_count": null,
   "id": "d3ac3507",
   "metadata": {},
   "outputs": [],
   "source": [
    "#df_ivr = pd.read_excel(ruta_IVR)"
   ]
  },
  {
   "cell_type": "code",
   "execution_count": null,
   "id": "7a22a8d5",
   "metadata": {},
   "outputs": [],
   "source": [
    "#df_ivr['51CEL'] = '51' + df_ivr['TELEFONO'].astype(str)\n",
    "#df_ivr['LLAVE'] = df_ivr['SWRUC'].astype(str) + df_ivr['51CEL'].astype(str)"
   ]
  },
  {
   "cell_type": "code",
   "execution_count": null,
   "id": "ecce963c",
   "metadata": {},
   "outputs": [],
   "source": [
    "#df_ivr"
   ]
  },
  {
   "cell_type": "code",
   "execution_count": null,
   "id": "3d713863",
   "metadata": {},
   "outputs": [],
   "source": [
    "#df_ivr.drop_duplicates(subset = 'LLAVE',inplace = True)\n",
    "#df_ivr_1 = df_ivr[['LLAVE', '51CEL']]"
   ]
  },
  {
   "cell_type": "code",
   "execution_count": null,
   "id": "f2df0360",
   "metadata": {},
   "outputs": [],
   "source": [
    "#df_rol_6 = pd.merge(df_rol_5, df_ivr_1, on = 'LLAVE', how='left')"
   ]
  },
  {
   "cell_type": "code",
   "execution_count": null,
   "id": "f4ca6173",
   "metadata": {},
   "outputs": [],
   "source": [
    "#df_rol_6.info()"
   ]
  },
  {
   "cell_type": "code",
   "execution_count": null,
   "id": "993d24bd",
   "metadata": {},
   "outputs": [],
   "source": [
    "#df_rol_6['IVR'] = 'NO'\n",
    "\n",
    "#condicion_7 = df_rol_6['51CEL'].notna()\n",
    "\n",
    "#df_rol_6.loc[condicion_7, 'IVR'] = 'SI'\n",
    "\n",
    "#df_rol_6.drop('51CEL',axis = 'columns', inplace= True)"
   ]
  },
  {
   "cell_type": "code",
   "execution_count": null,
   "id": "a58770fe",
   "metadata": {},
   "outputs": [],
   "source": [
    "#df_rol_6"
   ]
  },
  {
   "cell_type": "code",
   "execution_count": null,
   "id": "c449c8d7",
   "metadata": {},
   "outputs": [],
   "source": [
    "#condicion_8 = [(df_rol_6['PEDIDO'] == 'NO') & (df_rol_6['IVR'] == 'NO'),]\n",
    "\n",
    "#valores_2 = ['NO']\n",
    "\n",
    "#df_rol_6['CA'] = np.select(condicion_8, valores_2, default='SI')"
   ]
  },
  {
   "cell_type": "code",
   "execution_count": null,
   "id": "9380cbaa",
   "metadata": {},
   "outputs": [],
   "source": [
    "#df_rol_6"
   ]
  },
  {
   "cell_type": "code",
   "execution_count": null,
   "id": "ed7de64a",
   "metadata": {},
   "outputs": [],
   "source": [
    "df_rol_5.info()"
   ]
  },
  {
   "cell_type": "code",
   "execution_count": null,
   "id": "d9e1c2d5",
   "metadata": {},
   "outputs": [],
   "source": [
    "conteo_productos = df_rol_5['CA'].value_counts()\n",
    "\n",
    "print(\"Conteo de cada producto:\")\n",
    "conteo_productos"
   ]
  },
  {
   "cell_type": "code",
   "execution_count": null,
   "id": "c2708dd9",
   "metadata": {},
   "outputs": [],
   "source": [
    "# filtrar los que tengan un modelo atencion y suscriptores SI\n",
    "df_rol_base_nueva = df_rol_5[(df_rol_5['ETIQUETA'] == 'SI') & (df_rol_5['MODELO DE ATENCIÓN MES'] != 'Sin modelo de atencion') &(df_rol_5['MODELO DE ATENCIÓN MES'].notna())]\n",
    "\n",
    "# filtramos los que sean solo administradores \n",
    "df_rol_adm = df_rol_base_nueva[df_rol_base_nueva['ROL'] == 'ADMINISTRADOR']"
   ]
  },
  {
   "cell_type": "code",
   "execution_count": null,
   "id": "faed0eab",
   "metadata": {},
   "outputs": [],
   "source": [
    "conteo_etiqueta = df_rol_base_nueva['CA'].value_counts()\n",
    "\n",
    "print(conteo_etiqueta)"
   ]
  },
  {
   "cell_type": "code",
   "execution_count": null,
   "id": "05b6e9e1",
   "metadata": {},
   "outputs": [],
   "source": [
    "df_rol_base_nueva"
   ]
  },
  {
   "cell_type": "code",
   "execution_count": null,
   "id": "3b292759",
   "metadata": {},
   "outputs": [],
   "source": [
    "df_rol_adm"
   ]
  },
  {
   "cell_type": "code",
   "execution_count": null,
   "id": "30b01920",
   "metadata": {},
   "outputs": [],
   "source": [
    "#df_rol_base_nueva['ROL'].unique().tolist()"
   ]
  },
  {
   "cell_type": "code",
   "execution_count": null,
   "id": "2b69a957",
   "metadata": {},
   "outputs": [],
   "source": [
    "df_rol_adm.drop_duplicates(subset='LLAVE',inplace = True)"
   ]
  },
  {
   "cell_type": "code",
   "execution_count": null,
   "id": "35390f69",
   "metadata": {},
   "outputs": [],
   "source": [
    "df_rol_ca = df_rol_base_nueva[df_rol_base_nueva['CA'] == 'SI']"
   ]
  },
  {
   "cell_type": "code",
   "execution_count": null,
   "id": "b8cb1f54",
   "metadata": {},
   "outputs": [],
   "source": [
    "df_rol_ca"
   ]
  },
  {
   "cell_type": "code",
   "execution_count": null,
   "id": "f104cae8",
   "metadata": {},
   "outputs": [],
   "source": [
    "df_rol_adm['ROLX'] = 'ROL ADM'"
   ]
  },
  {
   "cell_type": "code",
   "execution_count": null,
   "id": "889159c4",
   "metadata": {},
   "outputs": [],
   "source": [
    "df_rol_adm"
   ]
  },
  {
   "cell_type": "code",
   "execution_count": null,
   "id": "c1db3f3b",
   "metadata": {},
   "outputs": [],
   "source": [
    "df_rol_adm_cruce = df_rol_adm.drop_duplicates(subset = 'LLAVE')"
   ]
  },
  {
   "cell_type": "code",
   "execution_count": null,
   "id": "07f52cf2",
   "metadata": {},
   "outputs": [],
   "source": [
    "df_rol_ca_ultimo = pd.merge(df_rol_ca, df_rol_adm_cruce[['LLAVE', 'ROLX' ]], on = 'LLAVE', how = 'left')"
   ]
  },
  {
   "cell_type": "code",
   "execution_count": null,
   "id": "85b00500",
   "metadata": {},
   "outputs": [],
   "source": [
    "df_rol_ca_ultimo.rename(columns = {'ROLX':'ROL3'},inplace=True)"
   ]
  },
  {
   "cell_type": "code",
   "execution_count": null,
   "id": "6d1cf0d1",
   "metadata": {},
   "outputs": [],
   "source": [
    "conteo_etiqueta = df_rol_ca_ultimo['ROL3'].value_counts()\n",
    "\n",
    "print(conteo_etiqueta)"
   ]
  },
  {
   "cell_type": "code",
   "execution_count": null,
   "id": "5c9a0f99",
   "metadata": {},
   "outputs": [],
   "source": [
    "df_rol_final = df_rol_ca_ultimo[df_rol_ca_ultimo['ROL3'] == 'ROL ADM']"
   ]
  },
  {
   "cell_type": "code",
   "execution_count": null,
   "id": "a30b8929",
   "metadata": {},
   "outputs": [],
   "source": [
    "df_rol_final.rename(columns = {'RUCCOMPANIA_x':'RUCCOMPANIA'}, inplace=True)"
   ]
  },
  {
   "cell_type": "code",
   "execution_count": null,
   "id": "8a328bd6",
   "metadata": {},
   "outputs": [],
   "source": [
    "df_rol_final"
   ]
  },
  {
   "cell_type": "code",
   "execution_count": null,
   "id": "2d78dc88",
   "metadata": {},
   "outputs": [],
   "source": [
    "df_rol_final.drop_duplicates(subset='RUCCOMPANIA', inplace =True)"
   ]
  },
  {
   "cell_type": "code",
   "execution_count": null,
   "id": "d212ed4f",
   "metadata": {},
   "outputs": [],
   "source": [
    "df_afiliaciones_col5 = pd.merge(df_afiliaciones_col4, df_rol_final[['RUCCOMPANIA','ROL3']], on='RUCCOMPANIA', how = 'left')"
   ]
  },
  {
   "cell_type": "code",
   "execution_count": null,
   "id": "56beb193",
   "metadata": {},
   "outputs": [],
   "source": [
    "df_afiliaciones_col5"
   ]
  },
  {
   "cell_type": "code",
   "execution_count": null,
   "id": "b8ee46d0",
   "metadata": {},
   "outputs": [],
   "source": [
    "condicion_9 = [(df_afiliaciones_col5['STATUS ONLINE 02.05'] == 'NO') & (df_afiliaciones_col5['ROL3'].isna()),\n",
    "               (df_afiliaciones_col5['STATUS ONLINE 02.05'] == 'SI') & (df_afiliaciones_col5['ROL3'] == 'ROL ADM'),\n",
    "               (df_afiliaciones_col5['STATUS ONLINE 02.05'] == 'SI') & (df_afiliaciones_col5['ROL3'].isna())]\n",
    "\n",
    "valores_2 = ['NO','AUTORIZADO','NO AUTORIZADO']\n",
    "\n",
    "df_afiliaciones_col5['ADMINISTRADOR CA 02.05'] = np.select(condicion_9, valores_2, default='')\n",
    "\n",
    "df_afiliaciones_col5.drop(columns=['ROL3'], inplace = True)"
   ]
  },
  {
   "cell_type": "code",
   "execution_count": null,
   "id": "dbc02436",
   "metadata": {},
   "outputs": [],
   "source": [
    "df_afiliaciones_col5"
   ]
  },
  {
   "cell_type": "code",
   "execution_count": null,
   "id": "a90e151d",
   "metadata": {},
   "outputs": [],
   "source": [
    "df_afiliaciones_col5.to_excel('Reporte Afiliaciones.xlsx', index = False)"
   ]
  }
 ],
 "metadata": {
  "kernelspec": {
   "display_name": "Python 3",
   "language": "python",
   "name": "python3"
  },
  "language_info": {
   "codemirror_mode": {
    "name": "ipython",
    "version": 3
   },
   "file_extension": ".py",
   "mimetype": "text/x-python",
   "name": "python",
   "nbconvert_exporter": "python",
   "pygments_lexer": "ipython3",
   "version": "3.11.1"
  }
 },
 "nbformat": 4,
 "nbformat_minor": 5
}
